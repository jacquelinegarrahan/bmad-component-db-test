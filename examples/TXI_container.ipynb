{
 "cells": [
  {
   "cell_type": "code",
   "execution_count": null,
   "id": "be9e44c8",
   "metadata": {},
   "outputs": [],
   "source": [
    "import pandas as pd\n",
    "import math\n",
    "from happi import Client\n",
    "from bmad_components.containers import Monitor, Instrument, Ecollimator, Rcollimator, Mirror, Marker"
   ]
  },
  {
   "cell_type": "code",
   "execution_count": null,
   "id": "7c75e393",
   "metadata": {},
   "outputs": [],
   "source": [
    "xl = pd.ExcelFile(\"TXIComponents_2020-08-24.xlsx\")"
   ]
  },
  {
   "cell_type": "code",
   "execution_count": null,
   "id": "e34c5d7f",
   "metadata": {},
   "outputs": [],
   "source": [
    "print(xl.sheet_names)"
   ]
  },
  {
   "cell_type": "code",
   "execution_count": null,
   "id": "82f04a25",
   "metadata": {},
   "outputs": [],
   "source": [
    "components = xl.parse('ComponentList')\n",
    "components.keys()"
   ]
  },
  {
   "cell_type": "code",
   "execution_count": null,
   "id": "e52ad5c1",
   "metadata": {},
   "outputs": [],
   "source": [
    "# Drop all rows without X, Y, Z\n",
    "components = components[components['X-LCLS [m]\\nY (SE)'].notnull()]\n",
    "components"
   ]
  },
  {
   "cell_type": "code",
   "execution_count": null,
   "id": "abd4d610",
   "metadata": {},
   "outputs": [],
   "source": [
    "# build devices\n",
    "devices = []\n",
    "count = 0\n",
    "for row in components.iterrows():\n",
    "   # print(row[1][\"Component/System\"])\n",
    "    comp_name = row[1][\"Component/System\"]\n",
    "    branch_line = row[1][\"Branch Line\"]\n",
    "    location = row[1][\"Location\"]\n",
    "    X_OFFSET = row[1][\"X-LCLS [m]\\nY (SE)\"]\n",
    "    Y_OFFSET = row[1][\"Y-LCLS [m]\\nZ (SE)\"]\n",
    "    Z_OFFSET = row[1][\"Z-LCLS [m]\\nX (SE)\"]\n",
    "    label = row[1][\"Label\"]\n",
    "    \n",
    "    description = row[1][\"Description\"]\n",
    "    \n",
    "    #filter nan\n",
    "    if isinstance(description, float):\n",
    "        if math.isnan(description):\n",
    "            description = None\n",
    "        \n",
    "    pitch = row[1][\"Pitch (rad)\"]\n",
    "    \n",
    "    #filter nan\n",
    "    if isinstance(label, float):\n",
    "        if math.isnan(label):\n",
    "            label = \"placeholder_label\" + str(count)\n",
    "            count += 1\n",
    "            \n",
    "    if not isinstance(comp_name, float):\n",
    "        \n",
    "        happi_class = None\n",
    "        if \"Monitor\" in comp_name:\n",
    "            happi_class = Monitor\n",
    "\n",
    "        elif \"Valve\" in comp_name:\n",
    "            #Using instrument for now...\n",
    "            happi_class = Instrument\n",
    "\n",
    "        elif \"Collimator\" in comp_name:\n",
    "            # Using ecollimator for now...\n",
    "            happi_class = Ecollimator\n",
    "\n",
    "        elif \"Stopper\" in comp_name:\n",
    "            # using instrument for now\n",
    "            happi_class = Instrument\n",
    "\n",
    "        elif \"Mirror\" in comp_name: \n",
    "            happi_class = Mirror\n",
    "\n",
    "        elif \"Delay-Line\" in comp_name:\n",
    "            happi_class = Instrument\n",
    "\n",
    "        elif \"Mirror System\" in comp_name:\n",
    "            # using mirror for now\n",
    "            happi_class = Mirror\n",
    "\n",
    "        elif \"Terminator\" in comp_name:\n",
    "            happi_class = Instrument\n",
    "\n",
    "        elif \"Focal Position\" in comp_name:\n",
    "            happi_class = Marker\n",
    "\n",
    "        elif \"wall surface\" in comp_name:\n",
    "            pass\n",
    "\n",
    "        elif \"Wall\" in comp_name:\n",
    "            pass\n",
    "\n",
    "        elif \"Timing\" in comp_name:\n",
    "            happi_class = Instrument\n",
    "\n",
    "        elif \"Wavefront Sensor\" in comp_name:\n",
    "            happi_class = Monitor\n",
    "            \n",
    "        if happi_class is not None:\n",
    "\n",
    "            if not description:\n",
    "                device = happi_class(\n",
    "                            X_OFFSET=X_OFFSET, \n",
    "                            Y_OFFSET=Y_OFFSET, \n",
    "                            Z_OFFSET=Z_OFFSET, \n",
    "                            branch_line=branch_line,\n",
    "                            name=label,\n",
    "                            L=0,\n",
    "                        )\n",
    "            else:\n",
    "                device = happi_class(\n",
    "                            X_OFFSET=X_OFFSET, \n",
    "                            Y_OFFSET=Y_OFFSET, \n",
    "                            Z_OFFSET=Z_OFFSET, \n",
    "                            branch_line=branch_line,\n",
    "                            name=label,\n",
    "                            description=description,\n",
    "                            L=0,\n",
    "                        )\n",
    "\n",
    "            devices.append(device)\n",
    "\n",
    "\n"
   ]
  },
  {
   "cell_type": "code",
   "execution_count": null,
   "id": "590a2789",
   "metadata": {},
   "outputs": [],
   "source": [
    "client = Client(path=\"txi_db.json\")\n",
    "\n",
    "for device in devices:\n",
    "    try:\n",
    "        client.add_device(device)\n",
    "    except Exception as e:\n",
    "        print(e)"
   ]
  },
  {
   "cell_type": "code",
   "execution_count": null,
   "id": "914369e1",
   "metadata": {},
   "outputs": [],
   "source": []
  }
 ],
 "metadata": {
  "kernelspec": {
   "display_name": "Python 3",
   "language": "python",
   "name": "python3"
  },
  "language_info": {
   "codemirror_mode": {
    "name": "ipython",
    "version": 3
   },
   "file_extension": ".py",
   "mimetype": "text/x-python",
   "name": "python",
   "nbconvert_exporter": "python",
   "pygments_lexer": "ipython3",
   "version": "3.7.10"
  }
 },
 "nbformat": 4,
 "nbformat_minor": 5
}
