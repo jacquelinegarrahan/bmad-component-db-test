{
 "cells": [
  {
   "cell_type": "markdown",
   "id": "divided-sleeve",
   "metadata": {},
   "source": [
    "# Example using cu_hxr devices\n",
    "\n",
    "Device representations composed of bmad attribute categories. This included:\n",
    "* Instrumental measurements\n",
    "* Aperture limits\n",
    "* Bend attributes\n",
    "* Kick\n",
    "* Length \n",
    "* S, S_start\n",
    "* Straight line orientation: pitch, offset\n",
    "* Bend orientation: ref tilt, roll\n",
    "* Girder extension: pitch totals, offset totals\n",
    "* Girder bend extension: roll, tilt totals\n",
    "* Twiss matrix\n",
    "* Floor coordinates\n",
    "\n",
    "Devices are registered with Happi in `setup.py`. \n",
    "\n",
    "A couple of comments:  \n",
    "* Entry items are flat, no complex logic. Cannot require one or the other\n",
    "* Happi items must be added to the registry using entrypoints... Cannot add on-the-fly by design\n",
    "* Missing units \n",
    "* Validation occurs on `add_device()`, not during construction :( "
   ]
  },
  {
   "cell_type": "code",
   "execution_count": null,
   "id": "legitimate-while",
   "metadata": {},
   "outputs": [],
   "source": [
    "from happi import Client\n",
    "from bmad_components.containers import Solenoid, Multipole\n",
    "import matplotlib.pyplot as plt\n",
    "\n",
    "db_file = \"bmad_db.json\""
   ]
  },
  {
   "cell_type": "markdown",
   "id": "blind-vacation",
   "metadata": {},
   "source": [
    "## Create Solenoid and Multipole Objects"
   ]
  },
  {
   "cell_type": "code",
   "execution_count": null,
   "id": "formed-universe",
   "metadata": {},
   "outputs": [],
   "source": [
    "SOL1BK = Solenoid(name=\"SOL1BK\", \n",
    "                  KS=0.0, \n",
    "                  R_SOLENOID=0.0, \n",
    "                  TILT=0.0, \n",
    "                  L=0.0, \n",
    "                  R0_MAG= 0.0, \n",
    "                  X_PITCH=0.0, \n",
    "                  Y_PITCH=0.0,\n",
    "                  X_PITCH_TOT=0.0,\n",
    "                  Y_PITCH_TOT=0.0,\n",
    "                  X_OFFSET=0.0,\n",
    "                  Y_OFFSET=0.0,\n",
    "                  Z_OFFSET=0.0,\n",
    "                  X_OFFSET_TOT=0.0,\n",
    "                  Y_OFFSET_TOT=0.0,\n",
    "                  Z_OFFSET_TOT=0.0,\n",
    "                  TILT_TOT=0.0,\n",
    "                  HKICK=0.0,\n",
    "                  VKICK=0.0,\n",
    "                  BL_HKICK=0.0,\n",
    "                  BL_VKICK=0.0,\n",
    "                  DELTA_REF_TIME=0.0, \n",
    "                  P0C=5.978E6,\n",
    "                  BETA=9.964E-1,\n",
    "                  GAMMA=1.174E-1,\n",
    "                  DS_STEP=2.0E-1,\n",
    "                  X1_LIMIT=0.0,\n",
    "                  X2_LIMIT= 0.0,\n",
    "                  Y1_LIMIT= 0.0,\n",
    "                  Y2_LIMIT = 0.0,\n",
    "                  APERTURE_AT=\"Exit_End\",\n",
    "                  APERTURE_TYPE=\"Rectangular\",\n",
    "                  Beta_A=1.51417607,\n",
    "                  Beta_B=1.53986429,\n",
    "                  Alpha_A=-0.16040691,\n",
    "                  Alpha_B=-0.16379375,\n",
    "                  Gamma_A=0.67741817,\n",
    "                  Gamma_B=0.66683045,\n",
    "                  Phi_A=0.0,\n",
    "                  Phi_B=0.0,\n",
    "                  Eta_X=0.0,\n",
    "                  Eta_Y=0.0,\n",
    "                  Eta_Z=0.0,\n",
    "                  Etap_X=0.0,\n",
    "                  Etap_Y=0.0,\n",
    "                  Etap_Z=0.0,\n",
    "                  Reference_X=10.44893,\n",
    "                  Reference_Y=0.0,\n",
    "                  Reference_Z=2017.91148,\n",
    "                  Reference_Theta= -0.61087,\n",
    "                  Reference_Phi= 0.0,\n",
    "                  Reference_Psi=0.0,\n",
    "                  Actual_X=10.44893,\n",
    "                  Actual_Y=0.0,\n",
    "                  Actual_Z=2017.91148,\n",
    "                  Actual_Theta= -0.61087,\n",
    "                  Actual_Phi=0.0,\n",
    "                  Actual_Psi=0.0,\n",
    "                  delta_Ref_X=0.0,\n",
    "                  delta_Ref_Y=0.0,\n",
    "                  delta_Ref_Z=0.0,\n",
    "                  delta_Ref_Theta=0.0,\n",
    "                  delta_Ref_Phi=0.0,\n",
    "                  delta_Ref_Psi=0.0,\n",
    "                  BS_FIELD = 0.0, \n",
    "                  L_SOFT_EDGE=0.0,\n",
    "                  S=0.0,\n",
    "                  S_start=0.0,\n",
    "                 )\n",
    "\n",
    "\n",
    "SQ01 = Multipole(name=\"SQ01\", \n",
    "                S=0.196010,\n",
    "                S_start=0.196010,\n",
    "                TILT=0.0, \n",
    "                L=0.0,\n",
    "                X_OFFSET=0.0,\n",
    "                Y_OFFSET=0.0,\n",
    "                Z_OFFSET=0.0,\n",
    "                X_OFFSET_TOT=0.0,\n",
    "                Y_OFFSET_TOT=0.0,\n",
    "                Z_OFFSET_TOT=0.0,\n",
    "                TILT_TOT=0.0,\n",
    "                DELTA_REF_TIME=0.0,\n",
    "                X1_LIMIT=0.0,\n",
    "                X2_LIMIT= 0.0,\n",
    "                Y1_LIMIT= 0.0,\n",
    "                Y2_LIMIT = 0.0,\n",
    "                APERTURE_AT=\"Exit_End\",\n",
    "                APERTURE_TYPE=\"Rectangular\",\n",
    "                Beta_A=1.6030851,\n",
    "                Beta_B=1.62969428,\n",
    "                Alpha_A=-0.29318765,\n",
    "                Alpha_B=-0.29449919, \n",
    "                Gamma_A=0.67741817,\n",
    "                Gamma_B=0.66683045,\n",
    "                Phi_A=0.12614328,\n",
    "                Phi_B=0.12405046,\n",
    "                Eta_X=0.0,\n",
    "                Eta_Y=0.0,\n",
    "                Eta_Z=0.00142173,\n",
    "                Etap_X=0.0,\n",
    "                Etap_Y=0.0,\n",
    "                Etap_Z=0.0, \n",
    "                Reference_X=10.33650,\n",
    "                Reference_Y=0.0,\n",
    "                Reference_Z=2018.07204,\n",
    "                Reference_Theta= -0.61087,\n",
    "                Reference_Phi= 0.0,\n",
    "                Reference_Psi=0.0,\n",
    "                Actual_X=10.33650,\n",
    "                Actual_Y=0.0,\n",
    "                Actual_Z=2018.07204,\n",
    "                Actual_Theta= -0.61087,\n",
    "                Actual_Phi=0.0,\n",
    "                Actual_Psi=0.0,\n",
    "                delta_Ref_X=0.0,\n",
    "                delta_Ref_Y=0.0,\n",
    "                delta_Ref_Z=0.0,\n",
    "                delta_Ref_Theta=0.0,\n",
    "                delta_Ref_Phi=0.0,\n",
    "                delta_Ref_Psi=0.0,\n",
    "            )"
   ]
  },
  {
   "cell_type": "markdown",
   "id": "intellectual-brave",
   "metadata": {},
   "source": [
    "## Add devices to the database \n",
    "JSON reserializes on addition"
   ]
  },
  {
   "cell_type": "code",
   "execution_count": null,
   "id": "affiliated-outline",
   "metadata": {},
   "outputs": [],
   "source": [
    "client = Client(path=db_file)\n",
    "\n",
    "# will throw error if already added\n",
    "client.add_device(SOL1BK)\n",
    "client.add_device(SQ01)"
   ]
  },
  {
   "cell_type": "markdown",
   "id": "medical-collaboration",
   "metadata": {},
   "source": [
    "# Device loading"
   ]
  },
  {
   "cell_type": "code",
   "execution_count": null,
   "id": "endangered-communication",
   "metadata": {},
   "outputs": [],
   "source": [
    "# new client\n",
    "del client\n",
    "client = Client(path=db_file)\n",
    "device = client.find_device(name=\"SOL1BK\")\n",
    "device.show_info()"
   ]
  },
  {
   "cell_type": "code",
   "execution_count": null,
   "id": "spoken-facing",
   "metadata": {},
   "outputs": [],
   "source": [
    "device.__dict__"
   ]
  },
  {
   "cell_type": "code",
   "execution_count": null,
   "id": "underlying-rachel",
   "metadata": {},
   "outputs": [],
   "source": [
    "device2 = client.find_device(name=\"SQ01\")\n",
    "device2.show_info()"
   ]
  },
  {
   "cell_type": "code",
   "execution_count": null,
   "id": "green-bennett",
   "metadata": {},
   "outputs": [],
   "source": [
    "## Device range search\n",
    "device2.marker"
   ]
  },
  {
   "cell_type": "code",
   "execution_count": null,
   "id": "cultural-accommodation",
   "metadata": {},
   "outputs": [],
   "source": [
    "# device range search\n",
    "client.search_range('Actual_Z', start=314.4, end=2200)"
   ]
  },
  {
   "cell_type": "code",
   "execution_count": null,
   "id": "4eafc190",
   "metadata": {},
   "outputs": [],
   "source": []
  }
 ],
 "metadata": {
  "kernelspec": {
   "display_name": "Python 3",
   "language": "python",
   "name": "python3"
  },
  "language_info": {
   "codemirror_mode": {
    "name": "ipython",
    "version": 3
   },
   "file_extension": ".py",
   "mimetype": "text/x-python",
   "name": "python",
   "nbconvert_exporter": "python",
   "pygments_lexer": "ipython3",
   "version": "3.7.10"
  }
 },
 "nbformat": 4,
 "nbformat_minor": 5
}
