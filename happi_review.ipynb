{
 "cells": [
  {
   "cell_type": "markdown",
   "id": "harmful-photograph",
   "metadata": {},
   "source": [
    "# Brief Happi Review\n",
    "\n",
    "Happi is packaged with three backends:\n",
    "* MongoBackend\n",
    "* QSBackend (PCDS questionnaire) \n",
    "* JSONBackend \n",
    "\n",
    "## Containers\n",
    "\n",
    "Happi uses the concept of containers to provide a generic interface for defining and loading device field information. Containers function very similarly to pydantic models. \n",
    "\n",
    "Happi containers contain references to `device_class` which is used to instantiate the item.\n",
    "\n",
    "Built-in containers include:\n",
    "* HappiItem (base)\n",
    "* OphydItem \n",
    "* * pv prefix\n",
    "* LCLSItem (moved to pcdsdevices)\n",
    "* * beamline\n",
    "* * z\n",
    "* * location_group\n",
    "* * functional_group\n",
    "* * stand\n",
    "* * lightpath\n",
    "* * embedded_screen\n",
    "* * detailed_screen\n",
    "* * engineering_screen\n",
    "\n",
    "\n",
    "Pseudocode of device load:\n",
    "\n",
    "```\n",
    "Create backend\n",
    "Create Happi Client (backend)\n",
    "    Find device(name=device_name) \n",
    "        Find document\n",
    "            Search for matches inside the database\n",
    "            Return the first match\n",
    "        Create device(document)\n",
    "            Check container registry for the device class\n",
    "            Instantiate the device class\n",
    "            Define device save method (add device to the backend database)\n",
    "```\n",
    "\n",
    "Changes to device data are propogated back to the database using `device.save()`.\n",
    "\n"
   ]
  },
  {
   "cell_type": "code",
   "execution_count": 1,
   "id": "recognized-photography",
   "metadata": {},
   "outputs": [],
   "source": [
    "# DEVICE EXAMPLE\n",
    "# PCDSITEM EXAMPLE"
   ]
  },
  {
   "cell_type": "code",
   "execution_count": 2,
   "id": "forward-deployment",
   "metadata": {},
   "outputs": [],
   "source": [
    "import json\n",
    "import csv\n",
    "from happi import Client"
   ]
  },
  {
   "cell_type": "code",
   "execution_count": 5,
   "id": "welcome-mentor",
   "metadata": {},
   "outputs": [],
   "source": [
    "client = Client(path=\"device_config/db.json\")\n",
    "device = client.find_device(name=\"al1k4\")"
   ]
  },
  {
   "cell_type": "code",
   "execution_count": 7,
   "id": "existing-creek",
   "metadata": {},
   "outputs": [
    {
     "name": "stdout",
     "output_type": "stream",
     "text": [
      "+------------------+---------------------------------------+\n",
      "| EntryInfo        | Value                                 |\n",
      "+------------------+---------------------------------------+\n",
      "| active           | True                                  |\n",
      "| args             | ['{{prefix}}']                        |\n",
      "| beamline         | TMO                                   |\n",
      "| creation         | Thu Oct  1 15:17:18 2020              |\n",
      "| device_class     | pcdsdevices.device_types.ReflaserL2SI |\n",
      "| documentation    | None                                  |\n",
      "| functional_group | REF                                   |\n",
      "| ioc_arch         | None                                  |\n",
      "| ioc_engineer     | None                                  |\n",
      "| ioc_hutch        | None                                  |\n",
      "| ioc_location     | None                                  |\n",
      "| ioc_name         | None                                  |\n",
      "| ioc_release      | None                                  |\n",
      "| ioc_type         | None                                  |\n",
      "| kwargs           | {'name': '{{name}}'}                  |\n",
      "| last_edit        | Thu Oct  1 15:21:22 2020              |\n",
      "| lightpath        | False                                 |\n",
      "| location_group   | FEE K4S33                             |\n",
      "| name             | al1k4                                 |\n",
      "| prefix           | AL1K4:L2SI                            |\n",
      "| stand            | K4S33                                 |\n",
      "| type             | pcdsdevices.happi.containers.LCLSItem |\n",
      "| z                | 754.87351                             |\n",
      "+------------------+---------------------------------------+\n"
     ]
    }
   ],
   "source": [
    "device.show_info()"
   ]
  },
  {
   "cell_type": "code",
   "execution_count": null,
   "id": "becoming-herald",
   "metadata": {},
   "outputs": [],
   "source": []
  }
 ],
 "metadata": {
  "kernelspec": {
   "display_name": "Python 3",
   "language": "python",
   "name": "python3"
  },
  "language_info": {
   "codemirror_mode": {
    "name": "ipython",
    "version": 3
   },
   "file_extension": ".py",
   "mimetype": "text/x-python",
   "name": "python",
   "nbconvert_exporter": "python",
   "pygments_lexer": "ipython3",
   "version": "3.9.1"
  }
 },
 "nbformat": 4,
 "nbformat_minor": 5
}
